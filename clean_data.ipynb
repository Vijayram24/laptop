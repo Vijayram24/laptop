{
 "cells": [
  {
   "cell_type": "code",
   "execution_count": 2,
   "id": "9c0faa52-ccc9-4390-bb3b-3fb4b609f099",
   "metadata": {},
   "outputs": [],
   "source": [
    "import pandas as pd"
   ]
  },
  {
   "cell_type": "code",
   "execution_count": 3,
   "id": "4241513b-3fe5-43af-a0cf-2b5265b58d14",
   "metadata": {},
   "outputs": [],
   "source": [
    "import numpy as np"
   ]
  },
  {
   "cell_type": "code",
   "execution_count": 4,
   "id": "9d5c765b-9817-4736-9a77-08ed36c365b9",
   "metadata": {},
   "outputs": [],
   "source": [
    "df = pd.read_csv('laptop_project.csv' , index_col  = 0)"
   ]
  },
  {
   "cell_type": "code",
   "execution_count": 5,
   "id": "edfcd599-96cd-41b8-9f34-2cca7c588c34",
   "metadata": {},
   "outputs": [
    {
     "data": {
      "text/html": [
       "<div>\n",
       "<style scoped>\n",
       "    .dataframe tbody tr th:only-of-type {\n",
       "        vertical-align: middle;\n",
       "    }\n",
       "\n",
       "    .dataframe tbody tr th {\n",
       "        vertical-align: top;\n",
       "    }\n",
       "\n",
       "    .dataframe thead th {\n",
       "        text-align: right;\n",
       "    }\n",
       "</style>\n",
       "<table border=\"1\" class=\"dataframe\">\n",
       "  <thead>\n",
       "    <tr style=\"text-align: right;\">\n",
       "      <th></th>\n",
       "      <th>name</th>\n",
       "      <th>price</th>\n",
       "    </tr>\n",
       "  </thead>\n",
       "  <tbody>\n",
       "    <tr>\n",
       "      <th>0</th>\n",
       "      <td>HP 14s Backlit Intel Core i3 11th Gen 1115G4 -...</td>\n",
       "      <td>₹37,999</td>\n",
       "    </tr>\n",
       "    <tr>\n",
       "      <th>1</th>\n",
       "      <td>Acer Aspire Intel Core i5 12th Gen 12450H - (1...</td>\n",
       "      <td>₹44,500</td>\n",
       "    </tr>\n",
       "    <tr>\n",
       "      <th>2</th>\n",
       "      <td>ASUS ASUS Vivobook S 15 Intel Core i5 13th Gen...</td>\n",
       "      <td>₹69,900</td>\n",
       "    </tr>\n",
       "    <tr>\n",
       "      <th>3</th>\n",
       "      <td>HP Chromebook MediaTek MT8183 - (4 GB/32 GB EM...</td>\n",
       "      <td>₹9,990</td>\n",
       "    </tr>\n",
       "    <tr>\n",
       "      <th>4</th>\n",
       "      <td>Primebook Wifi MediaTek MT8183 - (4 GB/64 GB E...</td>\n",
       "      <td>₹10,990</td>\n",
       "    </tr>\n",
       "  </tbody>\n",
       "</table>\n",
       "</div>"
      ],
      "text/plain": [
       "                                                name    price\n",
       "0  HP 14s Backlit Intel Core i3 11th Gen 1115G4 -...  ₹37,999\n",
       "1  Acer Aspire Intel Core i5 12th Gen 12450H - (1...  ₹44,500\n",
       "2  ASUS ASUS Vivobook S 15 Intel Core i5 13th Gen...  ₹69,900\n",
       "3  HP Chromebook MediaTek MT8183 - (4 GB/32 GB EM...   ₹9,990\n",
       "4  Primebook Wifi MediaTek MT8183 - (4 GB/64 GB E...  ₹10,990"
      ]
     },
     "execution_count": 5,
     "metadata": {},
     "output_type": "execute_result"
    }
   ],
   "source": [
    "df.head()"
   ]
  },
  {
   "cell_type": "code",
   "execution_count": 6,
   "id": "a28b10c6-8b72-4715-9cd8-46edcb62217e",
   "metadata": {},
   "outputs": [
    {
     "data": {
      "text/plain": [
       "(655, 2)"
      ]
     },
     "execution_count": 6,
     "metadata": {},
     "output_type": "execute_result"
    }
   ],
   "source": [
    "df.shape"
   ]
  },
  {
   "cell_type": "code",
   "execution_count": 7,
   "id": "e581e362-1d8e-4b55-b53e-3ac993d1234b",
   "metadata": {},
   "outputs": [
    {
     "data": {
      "text/plain": [
       "88"
      ]
     },
     "execution_count": 7,
     "metadata": {},
     "output_type": "execute_result"
    }
   ],
   "source": [
    "df.duplicated().sum()"
   ]
  },
  {
   "cell_type": "code",
   "execution_count": 8,
   "id": "9a4992b8-25f8-4018-97fe-59f1eb15ebf5",
   "metadata": {},
   "outputs": [],
   "source": [
    "df = df.drop_duplicates()"
   ]
  },
  {
   "cell_type": "code",
   "execution_count": 9,
   "id": "e32f0227-c125-49ea-8209-72ee639fd99e",
   "metadata": {},
   "outputs": [
    {
     "data": {
      "text/plain": [
       "0"
      ]
     },
     "execution_count": 9,
     "metadata": {},
     "output_type": "execute_result"
    }
   ],
   "source": [
    "df.duplicated().sum()"
   ]
  },
  {
   "cell_type": "code",
   "execution_count": 10,
   "id": "e2a63f0e-828b-4dc2-91fa-683d6f95bd6f",
   "metadata": {},
   "outputs": [
    {
     "data": {
      "text/html": [
       "<div>\n",
       "<style scoped>\n",
       "    .dataframe tbody tr th:only-of-type {\n",
       "        vertical-align: middle;\n",
       "    }\n",
       "\n",
       "    .dataframe tbody tr th {\n",
       "        vertical-align: top;\n",
       "    }\n",
       "\n",
       "    .dataframe thead th {\n",
       "        text-align: right;\n",
       "    }\n",
       "</style>\n",
       "<table border=\"1\" class=\"dataframe\">\n",
       "  <thead>\n",
       "    <tr style=\"text-align: right;\">\n",
       "      <th></th>\n",
       "      <th>name</th>\n",
       "      <th>price</th>\n",
       "    </tr>\n",
       "  </thead>\n",
       "  <tbody>\n",
       "    <tr>\n",
       "      <th>0</th>\n",
       "      <td>HP 14s Backlit Intel Core i3 11th Gen 1115G4 -...</td>\n",
       "      <td>₹37,999</td>\n",
       "    </tr>\n",
       "    <tr>\n",
       "      <th>1</th>\n",
       "      <td>Acer Aspire Intel Core i5 12th Gen 12450H - (1...</td>\n",
       "      <td>₹44,500</td>\n",
       "    </tr>\n",
       "    <tr>\n",
       "      <th>2</th>\n",
       "      <td>ASUS ASUS Vivobook S 15 Intel Core i5 13th Gen...</td>\n",
       "      <td>₹69,900</td>\n",
       "    </tr>\n",
       "    <tr>\n",
       "      <th>3</th>\n",
       "      <td>HP Chromebook MediaTek MT8183 - (4 GB/32 GB EM...</td>\n",
       "      <td>₹9,990</td>\n",
       "    </tr>\n",
       "    <tr>\n",
       "      <th>4</th>\n",
       "      <td>Primebook Wifi MediaTek MT8183 - (4 GB/64 GB E...</td>\n",
       "      <td>₹10,990</td>\n",
       "    </tr>\n",
       "  </tbody>\n",
       "</table>\n",
       "</div>"
      ],
      "text/plain": [
       "                                                name    price\n",
       "0  HP 14s Backlit Intel Core i3 11th Gen 1115G4 -...  ₹37,999\n",
       "1  Acer Aspire Intel Core i5 12th Gen 12450H - (1...  ₹44,500\n",
       "2  ASUS ASUS Vivobook S 15 Intel Core i5 13th Gen...  ₹69,900\n",
       "3  HP Chromebook MediaTek MT8183 - (4 GB/32 GB EM...   ₹9,990\n",
       "4  Primebook Wifi MediaTek MT8183 - (4 GB/64 GB E...  ₹10,990"
      ]
     },
     "execution_count": 10,
     "metadata": {},
     "output_type": "execute_result"
    }
   ],
   "source": [
    "df.head()"
   ]
  },
  {
   "cell_type": "code",
   "execution_count": 11,
   "id": "e537618d-027d-4fad-8514-a5457e4928e0",
   "metadata": {},
   "outputs": [
    {
     "data": {
      "text/html": [
       "<div>\n",
       "<style scoped>\n",
       "    .dataframe tbody tr th:only-of-type {\n",
       "        vertical-align: middle;\n",
       "    }\n",
       "\n",
       "    .dataframe tbody tr th {\n",
       "        vertical-align: top;\n",
       "    }\n",
       "\n",
       "    .dataframe thead th {\n",
       "        text-align: right;\n",
       "    }\n",
       "</style>\n",
       "<table border=\"1\" class=\"dataframe\">\n",
       "  <thead>\n",
       "    <tr style=\"text-align: right;\">\n",
       "      <th></th>\n",
       "      <th>name</th>\n",
       "      <th>price</th>\n",
       "    </tr>\n",
       "  </thead>\n",
       "  <tbody>\n",
       "    <tr>\n",
       "      <th>650</th>\n",
       "      <td>Infinix Zero Book Ultra AI PC Intel Core Ultra...</td>\n",
       "      <td>₹64,990</td>\n",
       "    </tr>\n",
       "    <tr>\n",
       "      <th>651</th>\n",
       "      <td>Lenovo IdeaPad Slim 5 2.5K IPS Intel Core i5 1...</td>\n",
       "      <td>₹76,990</td>\n",
       "    </tr>\n",
       "    <tr>\n",
       "      <th>652</th>\n",
       "      <td>DELL G15-5530 Intel Core i5 13th Gen 13450HX -...</td>\n",
       "      <td>₹73,990</td>\n",
       "    </tr>\n",
       "    <tr>\n",
       "      <th>653</th>\n",
       "      <td>DELL Inspiron Intel Core i5 13th Gen 13450HX -...</td>\n",
       "      <td>₹74,890</td>\n",
       "    </tr>\n",
       "    <tr>\n",
       "      <th>654</th>\n",
       "      <td>HP 15s Intel Core i3 11th Gen 1125G4 - (8 GB/5...</td>\n",
       "      <td>₹44,890</td>\n",
       "    </tr>\n",
       "  </tbody>\n",
       "</table>\n",
       "</div>"
      ],
      "text/plain": [
       "                                                  name    price\n",
       "650  Infinix Zero Book Ultra AI PC Intel Core Ultra...  ₹64,990\n",
       "651  Lenovo IdeaPad Slim 5 2.5K IPS Intel Core i5 1...  ₹76,990\n",
       "652  DELL G15-5530 Intel Core i5 13th Gen 13450HX -...  ₹73,990\n",
       "653  DELL Inspiron Intel Core i5 13th Gen 13450HX -...  ₹74,890\n",
       "654  HP 15s Intel Core i3 11th Gen 1125G4 - (8 GB/5...  ₹44,890"
      ]
     },
     "execution_count": 11,
     "metadata": {},
     "output_type": "execute_result"
    }
   ],
   "source": [
    "df.tail()"
   ]
  },
  {
   "cell_type": "code",
   "execution_count": 12,
   "id": "40297d41-18cf-4efb-bc68-4a9c5888b6e8",
   "metadata": {},
   "outputs": [],
   "source": [
    "df['price'] = df['price'].str.replace('₹', '').str.replace(',', '').astype(int)"
   ]
  },
  {
   "cell_type": "code",
   "execution_count": 13,
   "id": "cc8df79a-0436-4be3-8906-458b282683e4",
   "metadata": {},
   "outputs": [
    {
     "data": {
      "text/html": [
       "<div>\n",
       "<style scoped>\n",
       "    .dataframe tbody tr th:only-of-type {\n",
       "        vertical-align: middle;\n",
       "    }\n",
       "\n",
       "    .dataframe tbody tr th {\n",
       "        vertical-align: top;\n",
       "    }\n",
       "\n",
       "    .dataframe thead th {\n",
       "        text-align: right;\n",
       "    }\n",
       "</style>\n",
       "<table border=\"1\" class=\"dataframe\">\n",
       "  <thead>\n",
       "    <tr style=\"text-align: right;\">\n",
       "      <th></th>\n",
       "      <th>name</th>\n",
       "      <th>price</th>\n",
       "    </tr>\n",
       "  </thead>\n",
       "  <tbody>\n",
       "    <tr>\n",
       "      <th>0</th>\n",
       "      <td>HP 14s Backlit Intel Core i3 11th Gen 1115G4 -...</td>\n",
       "      <td>37999</td>\n",
       "    </tr>\n",
       "    <tr>\n",
       "      <th>1</th>\n",
       "      <td>Acer Aspire Intel Core i5 12th Gen 12450H - (1...</td>\n",
       "      <td>44500</td>\n",
       "    </tr>\n",
       "    <tr>\n",
       "      <th>2</th>\n",
       "      <td>ASUS ASUS Vivobook S 15 Intel Core i5 13th Gen...</td>\n",
       "      <td>69900</td>\n",
       "    </tr>\n",
       "    <tr>\n",
       "      <th>3</th>\n",
       "      <td>HP Chromebook MediaTek MT8183 - (4 GB/32 GB EM...</td>\n",
       "      <td>9990</td>\n",
       "    </tr>\n",
       "    <tr>\n",
       "      <th>4</th>\n",
       "      <td>Primebook Wifi MediaTek MT8183 - (4 GB/64 GB E...</td>\n",
       "      <td>10990</td>\n",
       "    </tr>\n",
       "  </tbody>\n",
       "</table>\n",
       "</div>"
      ],
      "text/plain": [
       "                                                name  price\n",
       "0  HP 14s Backlit Intel Core i3 11th Gen 1115G4 -...  37999\n",
       "1  Acer Aspire Intel Core i5 12th Gen 12450H - (1...  44500\n",
       "2  ASUS ASUS Vivobook S 15 Intel Core i5 13th Gen...  69900\n",
       "3  HP Chromebook MediaTek MT8183 - (4 GB/32 GB EM...   9990\n",
       "4  Primebook Wifi MediaTek MT8183 - (4 GB/64 GB E...  10990"
      ]
     },
     "execution_count": 13,
     "metadata": {},
     "output_type": "execute_result"
    }
   ],
   "source": [
    "df.head()"
   ]
  },
  {
   "cell_type": "code",
   "execution_count": 14,
   "id": "9ad85203-5fc8-4127-bde5-a5c46dbd46d8",
   "metadata": {},
   "outputs": [
    {
     "data": {
      "text/plain": [
       "'HP 14s Backlit Intel Core i3 11th Gen 1115G4 - (8 GB/512 GB SSD/Windows 11 Home) 14s-dq2649tu Thin and Light Laptop'"
      ]
     },
     "execution_count": 14,
     "metadata": {},
     "output_type": "execute_result"
    }
   ],
   "source": [
    "df['name'][0]"
   ]
  },
  {
   "cell_type": "code",
   "execution_count": 15,
   "id": "9f459853-5012-41c3-9cf5-6d510288b02f",
   "metadata": {},
   "outputs": [],
   "source": [
    "brands = [ 'HP', 'ASUS', 'Lenovo', 'DELL', 'MSI', 'Avita', 'Acer', 'Infinix', 'Apple', 'SAMSUNG', 'MICROSOFT', 'Ultimus', 'GIGABYTE', \n",
    "          'ZEBRONICS', 'Colorful', 'CHUWI', 'WINGS', 'realme', 'Thomson', 'ALIENWARE', 'WarnerCann', 'Vaio', 'Primebook',\n",
    "          'AXL', 'walker', 'FUTOPIA']\n",
    "# Create a regex pattern with all brand names \n",
    "brands_pattern = '|'.join(brands)"
   ]
  },
  {
   "cell_type": "code",
   "execution_count": 16,
   "id": "d0e2275d-508f-4a30-8a14-c1db1d305332",
   "metadata": {},
   "outputs": [
    {
     "data": {
      "text/plain": [
       "'HP|ASUS|Lenovo|DELL|MSI|Avita|Acer|Infinix|Apple|SAMSUNG|MICROSOFT|Ultimus|GIGABYTE|ZEBRONICS|Colorful|CHUWI|WINGS|realme|Thomson|ALIENWARE|WarnerCann|Vaio|Primebook|AXL|walker|FUTOPIA'"
      ]
     },
     "execution_count": 16,
     "metadata": {},
     "output_type": "execute_result"
    }
   ],
   "source": [
    "brands_pattern"
   ]
  },
  {
   "cell_type": "code",
   "execution_count": 17,
   "id": "88dbed6f-48fc-4d16-abaf-3e6dd31e7438",
   "metadata": {},
   "outputs": [],
   "source": [
    "df['Brand'] = df['name'].str.extract(f'({brands_pattern})', expand=False)"
   ]
  },
  {
   "cell_type": "code",
   "execution_count": 18,
   "id": "e9f276bd-21f7-4a68-9564-193b23cb95c2",
   "metadata": {},
   "outputs": [
    {
     "data": {
      "text/html": [
       "<div>\n",
       "<style scoped>\n",
       "    .dataframe tbody tr th:only-of-type {\n",
       "        vertical-align: middle;\n",
       "    }\n",
       "\n",
       "    .dataframe tbody tr th {\n",
       "        vertical-align: top;\n",
       "    }\n",
       "\n",
       "    .dataframe thead th {\n",
       "        text-align: right;\n",
       "    }\n",
       "</style>\n",
       "<table border=\"1\" class=\"dataframe\">\n",
       "  <thead>\n",
       "    <tr style=\"text-align: right;\">\n",
       "      <th></th>\n",
       "      <th>name</th>\n",
       "      <th>price</th>\n",
       "      <th>Brand</th>\n",
       "    </tr>\n",
       "  </thead>\n",
       "  <tbody>\n",
       "    <tr>\n",
       "      <th>0</th>\n",
       "      <td>HP 14s Backlit Intel Core i3 11th Gen 1115G4 -...</td>\n",
       "      <td>37999</td>\n",
       "      <td>HP</td>\n",
       "    </tr>\n",
       "    <tr>\n",
       "      <th>1</th>\n",
       "      <td>Acer Aspire Intel Core i5 12th Gen 12450H - (1...</td>\n",
       "      <td>44500</td>\n",
       "      <td>Acer</td>\n",
       "    </tr>\n",
       "    <tr>\n",
       "      <th>2</th>\n",
       "      <td>ASUS ASUS Vivobook S 15 Intel Core i5 13th Gen...</td>\n",
       "      <td>69900</td>\n",
       "      <td>ASUS</td>\n",
       "    </tr>\n",
       "    <tr>\n",
       "      <th>3</th>\n",
       "      <td>HP Chromebook MediaTek MT8183 - (4 GB/32 GB EM...</td>\n",
       "      <td>9990</td>\n",
       "      <td>HP</td>\n",
       "    </tr>\n",
       "    <tr>\n",
       "      <th>4</th>\n",
       "      <td>Primebook Wifi MediaTek MT8183 - (4 GB/64 GB E...</td>\n",
       "      <td>10990</td>\n",
       "      <td>Primebook</td>\n",
       "    </tr>\n",
       "  </tbody>\n",
       "</table>\n",
       "</div>"
      ],
      "text/plain": [
       "                                                name  price      Brand\n",
       "0  HP 14s Backlit Intel Core i3 11th Gen 1115G4 -...  37999         HP\n",
       "1  Acer Aspire Intel Core i5 12th Gen 12450H - (1...  44500       Acer\n",
       "2  ASUS ASUS Vivobook S 15 Intel Core i5 13th Gen...  69900       ASUS\n",
       "3  HP Chromebook MediaTek MT8183 - (4 GB/32 GB EM...   9990         HP\n",
       "4  Primebook Wifi MediaTek MT8183 - (4 GB/64 GB E...  10990  Primebook"
      ]
     },
     "execution_count": 18,
     "metadata": {},
     "output_type": "execute_result"
    }
   ],
   "source": [
    "df.head()"
   ]
  },
  {
   "cell_type": "code",
   "execution_count": 19,
   "id": "c4cd5638-25ca-4b9a-89d3-234c496f519f",
   "metadata": {},
   "outputs": [
    {
     "data": {
      "text/plain": [
       "0"
      ]
     },
     "execution_count": 19,
     "metadata": {},
     "output_type": "execute_result"
    }
   ],
   "source": [
    "df.Brand.isnull().sum()"
   ]
  },
  {
   "cell_type": "code",
   "execution_count": 20,
   "id": "2a57fd7c-912d-4246-a8e5-f5d86684902f",
   "metadata": {},
   "outputs": [],
   "source": [
    "processors = [ 'Intel Core i5', 'Intel Core i3', 'Intel Core i7', 'Intel Core i9','Intel Core Ultra' ,'Intel Core N N200' , \n",
    "              'Intel Celeron Quad Core' ,'Intel Core i5' , 'Intel Celeron Dual Core', 'Intel Core 5','Intel Core N N100' , \n",
    "              'Ryzen 5', 'Ryzen 7', 'M1', 'Ryzen 3' ,'Ryzen 9' , 'Ryzen 3'    , 'AMD Ryzen 7' , 'AMD Ryzen AI 9' , \n",
    "             'AMD Athlon' , 'MediaTek MT8183' , 'MediaTek Kompanio 1200' , 'AMD Dual Core A3020',\n",
    "              'Qualcomm Snapdragon X Elite' , 'Intel Dual Core N4020' ,'Intel Pentium Gold 7505' ,\n",
    "              'Qualcomm Snapdragon 7c Gen 2' , 'AMD Ryzen Z1' , 'Qualcomm']\n",
    "processors_pattern = '|'.join(processors)"
   ]
  },
  {
   "cell_type": "code",
   "execution_count": 21,
   "id": "e4a845c1-b9db-482f-9be7-6768b00aaed1",
   "metadata": {},
   "outputs": [
    {
     "data": {
      "text/plain": [
       "'Intel Core i5|Intel Core i3|Intel Core i7|Intel Core i9|Intel Core Ultra|Intel Core N N200|Intel Celeron Quad Core|Intel Core i5|Intel Celeron Dual Core|Intel Core 5|Intel Core N N100|Ryzen 5|Ryzen 7|M1|Ryzen 3|Ryzen 9|Ryzen 3|AMD Ryzen 7|AMD Ryzen AI 9|AMD Athlon|MediaTek MT8183|MediaTek Kompanio 1200|AMD Dual Core A3020|Qualcomm Snapdragon X Elite|Intel Dual Core N4020|Intel Pentium Gold 7505|Qualcomm Snapdragon 7c Gen 2|AMD Ryzen Z1|Qualcomm'"
      ]
     },
     "execution_count": 21,
     "metadata": {},
     "output_type": "execute_result"
    }
   ],
   "source": [
    "processors_pattern"
   ]
  },
  {
   "cell_type": "code",
   "execution_count": 22,
   "id": "1e266933-77c5-4ad1-a389-8677ec3bb8df",
   "metadata": {},
   "outputs": [],
   "source": [
    "df['Processor'] = df['name'].str.extract(f'({processors_pattern})', expand=False)"
   ]
  },
  {
   "cell_type": "code",
   "execution_count": 23,
   "id": "4a4fbc28-307d-476f-a265-6facc1bf8087",
   "metadata": {},
   "outputs": [],
   "source": [
    "df['Processor'] = np.where(df['Brand'] == 'Apple', 'Apple Silicon', df['Processor'])"
   ]
  },
  {
   "cell_type": "code",
   "execution_count": 24,
   "id": "a20ecb42-dc26-4a99-bb32-968250ac907d",
   "metadata": {},
   "outputs": [
    {
     "data": {
      "text/plain": [
       "0"
      ]
     },
     "execution_count": 24,
     "metadata": {},
     "output_type": "execute_result"
    }
   ],
   "source": [
    "df['Processor'].isnull().sum()"
   ]
  },
  {
   "cell_type": "code",
   "execution_count": 25,
   "id": "04b54191-86f6-444c-b680-1def05c1c127",
   "metadata": {
    "scrolled": true
   },
   "outputs": [
    {
     "data": {
      "text/html": [
       "<div>\n",
       "<style scoped>\n",
       "    .dataframe tbody tr th:only-of-type {\n",
       "        vertical-align: middle;\n",
       "    }\n",
       "\n",
       "    .dataframe tbody tr th {\n",
       "        vertical-align: top;\n",
       "    }\n",
       "\n",
       "    .dataframe thead th {\n",
       "        text-align: right;\n",
       "    }\n",
       "</style>\n",
       "<table border=\"1\" class=\"dataframe\">\n",
       "  <thead>\n",
       "    <tr style=\"text-align: right;\">\n",
       "      <th></th>\n",
       "      <th>name</th>\n",
       "      <th>price</th>\n",
       "      <th>Brand</th>\n",
       "      <th>Processor</th>\n",
       "    </tr>\n",
       "  </thead>\n",
       "  <tbody>\n",
       "    <tr>\n",
       "      <th>568</th>\n",
       "      <td>MSI Titan 18HX Intel Core i9 14th Gen 14900HX ...</td>\n",
       "      <td>418790</td>\n",
       "      <td>MSI</td>\n",
       "      <td>Intel Core i9</td>\n",
       "    </tr>\n",
       "  </tbody>\n",
       "</table>\n",
       "</div>"
      ],
      "text/plain": [
       "                                                  name   price Brand  \\\n",
       "568  MSI Titan 18HX Intel Core i9 14th Gen 14900HX ...  418790   MSI   \n",
       "\n",
       "         Processor  \n",
       "568  Intel Core i9  "
      ]
     },
     "execution_count": 25,
     "metadata": {},
     "output_type": "execute_result"
    }
   ],
   "source": [
    "df[df['price']==df['price'].max()]"
   ]
  },
  {
   "cell_type": "code",
   "execution_count": 26,
   "id": "1cdf1264-0ebd-470d-8a3f-cf78ca6e806a",
   "metadata": {},
   "outputs": [
    {
     "data": {
      "text/plain": [
       "'Lenovo Legion Go AMD Ryzen Z1 Extreme - (16 GB/512 GB SSD/Windows 11 Home) 8APU1 Handheld Gaming PC'"
      ]
     },
     "execution_count": 26,
     "metadata": {},
     "output_type": "execute_result"
    }
   ],
   "source": [
    "df['name'][186]"
   ]
  },
  {
   "cell_type": "code",
   "execution_count": 27,
   "id": "54f9c9af-a87d-4ad3-9e3c-369143ea519b",
   "metadata": {},
   "outputs": [
    {
     "data": {
      "text/plain": [
       "Processor\n",
       "Intel Core i5                   177\n",
       "Intel Core i3                    96\n",
       "Ryzen 5                          90\n",
       "Intel Core i7                    59\n",
       "AMD Ryzen 7                      33\n",
       "Ryzen 3                          33\n",
       "Intel Core Ultra                 19\n",
       "Intel Celeron Dual Core          18\n",
       "Intel Core i9                    11\n",
       "Intel Core 5                      4\n",
       "Ryzen 9                           3\n",
       "Apple Silicon                     3\n",
       "Intel Celeron Quad Core           3\n",
       "AMD Athlon                        3\n",
       "MediaTek MT8183                   3\n",
       "Intel Core N N100                 2\n",
       "AMD Dual Core A3020               1\n",
       "Qualcomm                          1\n",
       "AMD Ryzen AI 9                    1\n",
       "Intel Pentium Gold 7505           1\n",
       "AMD Ryzen Z1                      1\n",
       "MediaTek Kompanio 1200            1\n",
       "Qualcomm Snapdragon 7c Gen 2      1\n",
       "Qualcomm Snapdragon X Elite       1\n",
       "Intel Dual Core N4020             1\n",
       "Intel Core N N200                 1\n",
       "Name: count, dtype: int64"
      ]
     },
     "execution_count": 27,
     "metadata": {},
     "output_type": "execute_result"
    }
   ],
   "source": [
    "df.Processor.value_counts()"
   ]
  },
  {
   "cell_type": "code",
   "execution_count": 28,
   "id": "38c64c59-e869-4ab8-a0c0-2037397c12ce",
   "metadata": {},
   "outputs": [
    {
     "data": {
      "text/plain": [
       "'HP Chromebook MediaTek MT8183 - (4 GB/32 GB EMMC Storage/Chrome OS) 11MK G9 EE Chromebook'"
      ]
     },
     "execution_count": 28,
     "metadata": {},
     "output_type": "execute_result"
    }
   ],
   "source": [
    "df['name'][3]"
   ]
  },
  {
   "cell_type": "code",
   "execution_count": 29,
   "id": "2e5dd190-0c37-4c35-b601-7e41d0c0efb1",
   "metadata": {},
   "outputs": [
    {
     "data": {
      "text/plain": [
       "0"
      ]
     },
     "execution_count": 29,
     "metadata": {},
     "output_type": "execute_result"
    }
   ],
   "source": [
    "df['Processor'].isnull().sum()"
   ]
  },
  {
   "cell_type": "code",
   "execution_count": 30,
   "id": "77ce2870-0f51-4879-8352-42abc23481c8",
   "metadata": {
    "scrolled": true
   },
   "outputs": [
    {
     "data": {
      "text/html": [
       "<div>\n",
       "<style scoped>\n",
       "    .dataframe tbody tr th:only-of-type {\n",
       "        vertical-align: middle;\n",
       "    }\n",
       "\n",
       "    .dataframe tbody tr th {\n",
       "        vertical-align: top;\n",
       "    }\n",
       "\n",
       "    .dataframe thead th {\n",
       "        text-align: right;\n",
       "    }\n",
       "</style>\n",
       "<table border=\"1\" class=\"dataframe\">\n",
       "  <thead>\n",
       "    <tr style=\"text-align: right;\">\n",
       "      <th></th>\n",
       "      <th>name</th>\n",
       "      <th>price</th>\n",
       "      <th>Brand</th>\n",
       "      <th>Processor</th>\n",
       "    </tr>\n",
       "  </thead>\n",
       "  <tbody>\n",
       "  </tbody>\n",
       "</table>\n",
       "</div>"
      ],
      "text/plain": [
       "Empty DataFrame\n",
       "Columns: [name, price, Brand, Processor]\n",
       "Index: []"
      ]
     },
     "execution_count": 30,
     "metadata": {},
     "output_type": "execute_result"
    }
   ],
   "source": [
    "df[df['Processor'].isnull()]"
   ]
  },
  {
   "cell_type": "code",
   "execution_count": 31,
   "id": "930eab4d-7963-489e-8115-5073feefadcf",
   "metadata": {},
   "outputs": [
    {
     "data": {
      "text/plain": [
       "'Acer AMD Dual Core A3020e - (4 GB/256 GB SSD/Windows 10 Home) EX215-22 Laptop'"
      ]
     },
     "execution_count": 31,
     "metadata": {},
     "output_type": "execute_result"
    }
   ],
   "source": [
    "df['name'][321]"
   ]
  },
  {
   "cell_type": "code",
   "execution_count": 32,
   "id": "7d06055f-98b3-4991-871f-3100937cee02",
   "metadata": {},
   "outputs": [],
   "source": [
    "generations = [ '10th Gen', '11th Gen', '12th Gen', '13th Gen', '14th Gen', '1st Gen', '2nd Gen', \n",
    "               '3rd Gen', '4th Gen', '5th Gen', '6th Gen', '7th Gen', '8th Gen', '9th Gen' ]\n",
    "generations_pattern = '|'.join(generations)"
   ]
  },
  {
   "cell_type": "code",
   "execution_count": 33,
   "id": "69bfdb59-4b98-4438-bc26-21674bade3df",
   "metadata": {},
   "outputs": [],
   "source": [
    "df['Generation'] = df['name'].str.extract(f'({generations_pattern})', expand=False)"
   ]
  },
  {
   "cell_type": "code",
   "execution_count": 34,
   "id": "7ab452d4-d3d2-4115-80ec-d54d44eed1d5",
   "metadata": {},
   "outputs": [
    {
     "data": {
      "text/html": [
       "<div>\n",
       "<style scoped>\n",
       "    .dataframe tbody tr th:only-of-type {\n",
       "        vertical-align: middle;\n",
       "    }\n",
       "\n",
       "    .dataframe tbody tr th {\n",
       "        vertical-align: top;\n",
       "    }\n",
       "\n",
       "    .dataframe thead th {\n",
       "        text-align: right;\n",
       "    }\n",
       "</style>\n",
       "<table border=\"1\" class=\"dataframe\">\n",
       "  <thead>\n",
       "    <tr style=\"text-align: right;\">\n",
       "      <th></th>\n",
       "      <th>name</th>\n",
       "      <th>price</th>\n",
       "      <th>Brand</th>\n",
       "      <th>Processor</th>\n",
       "      <th>Generation</th>\n",
       "    </tr>\n",
       "  </thead>\n",
       "  <tbody>\n",
       "    <tr>\n",
       "      <th>0</th>\n",
       "      <td>HP 14s Backlit Intel Core i3 11th Gen 1115G4 -...</td>\n",
       "      <td>37999</td>\n",
       "      <td>HP</td>\n",
       "      <td>Intel Core i3</td>\n",
       "      <td>11th Gen</td>\n",
       "    </tr>\n",
       "    <tr>\n",
       "      <th>1</th>\n",
       "      <td>Acer Aspire Intel Core i5 12th Gen 12450H - (1...</td>\n",
       "      <td>44500</td>\n",
       "      <td>Acer</td>\n",
       "      <td>Intel Core i5</td>\n",
       "      <td>12th Gen</td>\n",
       "    </tr>\n",
       "    <tr>\n",
       "      <th>2</th>\n",
       "      <td>ASUS ASUS Vivobook S 15 Intel Core i5 13th Gen...</td>\n",
       "      <td>69900</td>\n",
       "      <td>ASUS</td>\n",
       "      <td>Intel Core i5</td>\n",
       "      <td>13th Gen</td>\n",
       "    </tr>\n",
       "    <tr>\n",
       "      <th>3</th>\n",
       "      <td>HP Chromebook MediaTek MT8183 - (4 GB/32 GB EM...</td>\n",
       "      <td>9990</td>\n",
       "      <td>HP</td>\n",
       "      <td>MediaTek MT8183</td>\n",
       "      <td>NaN</td>\n",
       "    </tr>\n",
       "    <tr>\n",
       "      <th>4</th>\n",
       "      <td>Primebook Wifi MediaTek MT8183 - (4 GB/64 GB E...</td>\n",
       "      <td>10990</td>\n",
       "      <td>Primebook</td>\n",
       "      <td>MediaTek MT8183</td>\n",
       "      <td>NaN</td>\n",
       "    </tr>\n",
       "  </tbody>\n",
       "</table>\n",
       "</div>"
      ],
      "text/plain": [
       "                                                name  price      Brand  \\\n",
       "0  HP 14s Backlit Intel Core i3 11th Gen 1115G4 -...  37999         HP   \n",
       "1  Acer Aspire Intel Core i5 12th Gen 12450H - (1...  44500       Acer   \n",
       "2  ASUS ASUS Vivobook S 15 Intel Core i5 13th Gen...  69900       ASUS   \n",
       "3  HP Chromebook MediaTek MT8183 - (4 GB/32 GB EM...   9990         HP   \n",
       "4  Primebook Wifi MediaTek MT8183 - (4 GB/64 GB E...  10990  Primebook   \n",
       "\n",
       "         Processor Generation  \n",
       "0    Intel Core i3   11th Gen  \n",
       "1    Intel Core i5   12th Gen  \n",
       "2    Intel Core i5   13th Gen  \n",
       "3  MediaTek MT8183        NaN  \n",
       "4  MediaTek MT8183        NaN  "
      ]
     },
     "execution_count": 34,
     "metadata": {},
     "output_type": "execute_result"
    }
   ],
   "source": [
    "df.head()"
   ]
  },
  {
   "cell_type": "code",
   "execution_count": 35,
   "id": "2419326f-dd3c-4a26-8648-79cecbc2f0fe",
   "metadata": {},
   "outputs": [],
   "source": [
    "df[['RAM', 'ROM']] = df['name'].str.extract(r'\\((\\d+ GB)\\/([\\d\\s\\w]+ (?:SSD|HDD|EMMC))')"
   ]
  },
  {
   "cell_type": "code",
   "execution_count": 36,
   "id": "14a4b4f4-c1e7-4894-8673-68d857e95b11",
   "metadata": {},
   "outputs": [
    {
     "data": {
      "text/html": [
       "<div>\n",
       "<style scoped>\n",
       "    .dataframe tbody tr th:only-of-type {\n",
       "        vertical-align: middle;\n",
       "    }\n",
       "\n",
       "    .dataframe tbody tr th {\n",
       "        vertical-align: top;\n",
       "    }\n",
       "\n",
       "    .dataframe thead th {\n",
       "        text-align: right;\n",
       "    }\n",
       "</style>\n",
       "<table border=\"1\" class=\"dataframe\">\n",
       "  <thead>\n",
       "    <tr style=\"text-align: right;\">\n",
       "      <th></th>\n",
       "      <th>name</th>\n",
       "      <th>price</th>\n",
       "      <th>Brand</th>\n",
       "      <th>Processor</th>\n",
       "      <th>Generation</th>\n",
       "      <th>RAM</th>\n",
       "      <th>ROM</th>\n",
       "    </tr>\n",
       "  </thead>\n",
       "  <tbody>\n",
       "    <tr>\n",
       "      <th>0</th>\n",
       "      <td>HP 14s Backlit Intel Core i3 11th Gen 1115G4 -...</td>\n",
       "      <td>37999</td>\n",
       "      <td>HP</td>\n",
       "      <td>Intel Core i3</td>\n",
       "      <td>11th Gen</td>\n",
       "      <td>8 GB</td>\n",
       "      <td>512 GB SSD</td>\n",
       "    </tr>\n",
       "    <tr>\n",
       "      <th>1</th>\n",
       "      <td>Acer Aspire Intel Core i5 12th Gen 12450H - (1...</td>\n",
       "      <td>44500</td>\n",
       "      <td>Acer</td>\n",
       "      <td>Intel Core i5</td>\n",
       "      <td>12th Gen</td>\n",
       "      <td>12 GB</td>\n",
       "      <td>512 GB SSD</td>\n",
       "    </tr>\n",
       "    <tr>\n",
       "      <th>2</th>\n",
       "      <td>ASUS ASUS Vivobook S 15 Intel Core i5 13th Gen...</td>\n",
       "      <td>69900</td>\n",
       "      <td>ASUS</td>\n",
       "      <td>Intel Core i5</td>\n",
       "      <td>13th Gen</td>\n",
       "      <td>16 GB</td>\n",
       "      <td>512 GB SSD</td>\n",
       "    </tr>\n",
       "    <tr>\n",
       "      <th>3</th>\n",
       "      <td>HP Chromebook MediaTek MT8183 - (4 GB/32 GB EM...</td>\n",
       "      <td>9990</td>\n",
       "      <td>HP</td>\n",
       "      <td>MediaTek MT8183</td>\n",
       "      <td>NaN</td>\n",
       "      <td>4 GB</td>\n",
       "      <td>32 GB EMMC</td>\n",
       "    </tr>\n",
       "    <tr>\n",
       "      <th>4</th>\n",
       "      <td>Primebook Wifi MediaTek MT8183 - (4 GB/64 GB E...</td>\n",
       "      <td>10990</td>\n",
       "      <td>Primebook</td>\n",
       "      <td>MediaTek MT8183</td>\n",
       "      <td>NaN</td>\n",
       "      <td>4 GB</td>\n",
       "      <td>64 GB EMMC</td>\n",
       "    </tr>\n",
       "  </tbody>\n",
       "</table>\n",
       "</div>"
      ],
      "text/plain": [
       "                                                name  price      Brand  \\\n",
       "0  HP 14s Backlit Intel Core i3 11th Gen 1115G4 -...  37999         HP   \n",
       "1  Acer Aspire Intel Core i5 12th Gen 12450H - (1...  44500       Acer   \n",
       "2  ASUS ASUS Vivobook S 15 Intel Core i5 13th Gen...  69900       ASUS   \n",
       "3  HP Chromebook MediaTek MT8183 - (4 GB/32 GB EM...   9990         HP   \n",
       "4  Primebook Wifi MediaTek MT8183 - (4 GB/64 GB E...  10990  Primebook   \n",
       "\n",
       "         Processor Generation    RAM         ROM  \n",
       "0    Intel Core i3   11th Gen   8 GB  512 GB SSD  \n",
       "1    Intel Core i5   12th Gen  12 GB  512 GB SSD  \n",
       "2    Intel Core i5   13th Gen  16 GB  512 GB SSD  \n",
       "3  MediaTek MT8183        NaN   4 GB  32 GB EMMC  \n",
       "4  MediaTek MT8183        NaN   4 GB  64 GB EMMC  "
      ]
     },
     "execution_count": 36,
     "metadata": {},
     "output_type": "execute_result"
    }
   ],
   "source": [
    "df.head()"
   ]
  },
  {
   "cell_type": "code",
   "execution_count": 37,
   "id": "89114dad-32cd-49ba-9b15-9fc372799da5",
   "metadata": {},
   "outputs": [
    {
     "data": {
      "text/plain": [
       "219"
      ]
     },
     "execution_count": 37,
     "metadata": {},
     "output_type": "execute_result"
    }
   ],
   "source": [
    "df['Generation'].isnull().sum()"
   ]
  },
  {
   "cell_type": "code",
   "execution_count": 38,
   "id": "2b9f25cb-670d-4b5a-bddb-59d8d52a61c7",
   "metadata": {},
   "outputs": [],
   "source": [
    "df['Graphic Card'] = df['name'].str.extract(r'(\\d+ GB Graphics\\/[A-Za-z\\s]+|Graphics\\/[A-Za-z\\s]+)')"
   ]
  },
  {
   "cell_type": "code",
   "execution_count": 39,
   "id": "09bc04d6-5212-4e8f-885e-b508351b13b2",
   "metadata": {},
   "outputs": [
    {
     "data": {
      "text/plain": [
       "0      HP 14s Backlit Intel Core i3 11th Gen 1115G4 -...\n",
       "1      Acer Aspire Intel Core i5 12th Gen 12450H - (1...\n",
       "2      ASUS ASUS Vivobook S 15 Intel Core i5 13th Gen...\n",
       "3      HP Chromebook MediaTek MT8183 - (4 GB/32 GB EM...\n",
       "4      Primebook Wifi MediaTek MT8183 - (4 GB/64 GB E...\n",
       "                             ...                        \n",
       "647    HP AMD Ryzen 5 Hexa Core 5500U - (8 GB/512 GB ...\n",
       "649    Lenovo IdeaPad Slim 3 AMD Ryzen 5 Hexa Core 55...\n",
       "650    Infinix Zero Book Ultra AI PC Intel Core Ultra...\n",
       "651    Lenovo IdeaPad Slim 5 2.5K IPS Intel Core i5 1...\n",
       "654    HP 15s Intel Core i3 11th Gen 1125G4 - (8 GB/5...\n",
       "Name: name, Length: 423, dtype: object"
      ]
     },
     "execution_count": 39,
     "metadata": {},
     "output_type": "execute_result"
    }
   ],
   "source": [
    "df[df['Graphic Card'].isnull()]['name']"
   ]
  },
  {
   "cell_type": "code",
   "execution_count": 40,
   "id": "3c96f7c9-359d-4108-8843-d18bc6aa39e1",
   "metadata": {},
   "outputs": [],
   "source": [
    "import re\n",
    "brands = ['AMD', 'Intel', 'MediaTek', 'Qualcomm', 'Apple'] \n",
    "# Create a regex pattern to match any of the brand names \n",
    "pattern = '|'.join(brands) \n",
    "# Extract the brand names using the regex pattern \n",
    "df['Processor_Brand'] = df['name'].apply(lambda x: re.search(pattern, x).group() if re.search(pattern, x) else 'Other')"
   ]
  },
  {
   "cell_type": "code",
   "execution_count": 41,
   "id": "a67f1324-218f-45e5-9f15-1f1f559988f6",
   "metadata": {},
   "outputs": [
    {
     "data": {
      "text/html": [
       "<div>\n",
       "<style scoped>\n",
       "    .dataframe tbody tr th:only-of-type {\n",
       "        vertical-align: middle;\n",
       "    }\n",
       "\n",
       "    .dataframe tbody tr th {\n",
       "        vertical-align: top;\n",
       "    }\n",
       "\n",
       "    .dataframe thead th {\n",
       "        text-align: right;\n",
       "    }\n",
       "</style>\n",
       "<table border=\"1\" class=\"dataframe\">\n",
       "  <thead>\n",
       "    <tr style=\"text-align: right;\">\n",
       "      <th></th>\n",
       "      <th>name</th>\n",
       "      <th>price</th>\n",
       "      <th>Brand</th>\n",
       "      <th>Processor</th>\n",
       "      <th>Generation</th>\n",
       "      <th>RAM</th>\n",
       "      <th>ROM</th>\n",
       "      <th>Graphic Card</th>\n",
       "      <th>Processor_Brand</th>\n",
       "    </tr>\n",
       "  </thead>\n",
       "  <tbody>\n",
       "    <tr>\n",
       "      <th>0</th>\n",
       "      <td>HP 14s Backlit Intel Core i3 11th Gen 1115G4 -...</td>\n",
       "      <td>37999</td>\n",
       "      <td>HP</td>\n",
       "      <td>Intel Core i3</td>\n",
       "      <td>11th Gen</td>\n",
       "      <td>8 GB</td>\n",
       "      <td>512 GB SSD</td>\n",
       "      <td>NaN</td>\n",
       "      <td>Intel</td>\n",
       "    </tr>\n",
       "    <tr>\n",
       "      <th>1</th>\n",
       "      <td>Acer Aspire Intel Core i5 12th Gen 12450H - (1...</td>\n",
       "      <td>44500</td>\n",
       "      <td>Acer</td>\n",
       "      <td>Intel Core i5</td>\n",
       "      <td>12th Gen</td>\n",
       "      <td>12 GB</td>\n",
       "      <td>512 GB SSD</td>\n",
       "      <td>NaN</td>\n",
       "      <td>Intel</td>\n",
       "    </tr>\n",
       "    <tr>\n",
       "      <th>2</th>\n",
       "      <td>ASUS ASUS Vivobook S 15 Intel Core i5 13th Gen...</td>\n",
       "      <td>69900</td>\n",
       "      <td>ASUS</td>\n",
       "      <td>Intel Core i5</td>\n",
       "      <td>13th Gen</td>\n",
       "      <td>16 GB</td>\n",
       "      <td>512 GB SSD</td>\n",
       "      <td>NaN</td>\n",
       "      <td>Intel</td>\n",
       "    </tr>\n",
       "    <tr>\n",
       "      <th>3</th>\n",
       "      <td>HP Chromebook MediaTek MT8183 - (4 GB/32 GB EM...</td>\n",
       "      <td>9990</td>\n",
       "      <td>HP</td>\n",
       "      <td>MediaTek MT8183</td>\n",
       "      <td>NaN</td>\n",
       "      <td>4 GB</td>\n",
       "      <td>32 GB EMMC</td>\n",
       "      <td>NaN</td>\n",
       "      <td>MediaTek</td>\n",
       "    </tr>\n",
       "    <tr>\n",
       "      <th>4</th>\n",
       "      <td>Primebook Wifi MediaTek MT8183 - (4 GB/64 GB E...</td>\n",
       "      <td>10990</td>\n",
       "      <td>Primebook</td>\n",
       "      <td>MediaTek MT8183</td>\n",
       "      <td>NaN</td>\n",
       "      <td>4 GB</td>\n",
       "      <td>64 GB EMMC</td>\n",
       "      <td>NaN</td>\n",
       "      <td>MediaTek</td>\n",
       "    </tr>\n",
       "  </tbody>\n",
       "</table>\n",
       "</div>"
      ],
      "text/plain": [
       "                                                name  price      Brand  \\\n",
       "0  HP 14s Backlit Intel Core i3 11th Gen 1115G4 -...  37999         HP   \n",
       "1  Acer Aspire Intel Core i5 12th Gen 12450H - (1...  44500       Acer   \n",
       "2  ASUS ASUS Vivobook S 15 Intel Core i5 13th Gen...  69900       ASUS   \n",
       "3  HP Chromebook MediaTek MT8183 - (4 GB/32 GB EM...   9990         HP   \n",
       "4  Primebook Wifi MediaTek MT8183 - (4 GB/64 GB E...  10990  Primebook   \n",
       "\n",
       "         Processor Generation    RAM         ROM Graphic Card Processor_Brand  \n",
       "0    Intel Core i3   11th Gen   8 GB  512 GB SSD          NaN           Intel  \n",
       "1    Intel Core i5   12th Gen  12 GB  512 GB SSD          NaN           Intel  \n",
       "2    Intel Core i5   13th Gen  16 GB  512 GB SSD          NaN           Intel  \n",
       "3  MediaTek MT8183        NaN   4 GB  32 GB EMMC          NaN        MediaTek  \n",
       "4  MediaTek MT8183        NaN   4 GB  64 GB EMMC          NaN        MediaTek  "
      ]
     },
     "execution_count": 41,
     "metadata": {},
     "output_type": "execute_result"
    }
   ],
   "source": [
    "df.head()"
   ]
  },
  {
   "cell_type": "code",
   "execution_count": 42,
   "id": "87a355ec-fd80-47a5-8aa9-2f265354f8ae",
   "metadata": {},
   "outputs": [
    {
     "data": {
      "text/plain": [
       "0"
      ]
     },
     "execution_count": 42,
     "metadata": {},
     "output_type": "execute_result"
    }
   ],
   "source": [
    "df['Processor_Brand'].isnull().sum()"
   ]
  },
  {
   "cell_type": "code",
   "execution_count": 43,
   "id": "96ba09ca-25a6-4367-b6a4-118ccaab43d8",
   "metadata": {},
   "outputs": [
    {
     "data": {
      "text/html": [
       "<div>\n",
       "<style scoped>\n",
       "    .dataframe tbody tr th:only-of-type {\n",
       "        vertical-align: middle;\n",
       "    }\n",
       "\n",
       "    .dataframe tbody tr th {\n",
       "        vertical-align: top;\n",
       "    }\n",
       "\n",
       "    .dataframe thead th {\n",
       "        text-align: right;\n",
       "    }\n",
       "</style>\n",
       "<table border=\"1\" class=\"dataframe\">\n",
       "  <thead>\n",
       "    <tr style=\"text-align: right;\">\n",
       "      <th></th>\n",
       "      <th>name</th>\n",
       "      <th>price</th>\n",
       "      <th>Brand</th>\n",
       "      <th>Processor</th>\n",
       "      <th>Generation</th>\n",
       "      <th>RAM</th>\n",
       "      <th>ROM</th>\n",
       "      <th>Graphic Card</th>\n",
       "      <th>Processor_Brand</th>\n",
       "    </tr>\n",
       "  </thead>\n",
       "  <tbody>\n",
       "    <tr>\n",
       "      <th>0</th>\n",
       "      <td>HP 14s Backlit Intel Core i3 11th Gen 1115G4 -...</td>\n",
       "      <td>37999</td>\n",
       "      <td>HP</td>\n",
       "      <td>Intel Core i3</td>\n",
       "      <td>11th Gen</td>\n",
       "      <td>8 GB</td>\n",
       "      <td>512 GB SSD</td>\n",
       "      <td>NaN</td>\n",
       "      <td>Intel</td>\n",
       "    </tr>\n",
       "    <tr>\n",
       "      <th>1</th>\n",
       "      <td>Acer Aspire Intel Core i5 12th Gen 12450H - (1...</td>\n",
       "      <td>44500</td>\n",
       "      <td>Acer</td>\n",
       "      <td>Intel Core i5</td>\n",
       "      <td>12th Gen</td>\n",
       "      <td>12 GB</td>\n",
       "      <td>512 GB SSD</td>\n",
       "      <td>NaN</td>\n",
       "      <td>Intel</td>\n",
       "    </tr>\n",
       "    <tr>\n",
       "      <th>2</th>\n",
       "      <td>ASUS ASUS Vivobook S 15 Intel Core i5 13th Gen...</td>\n",
       "      <td>69900</td>\n",
       "      <td>ASUS</td>\n",
       "      <td>Intel Core i5</td>\n",
       "      <td>13th Gen</td>\n",
       "      <td>16 GB</td>\n",
       "      <td>512 GB SSD</td>\n",
       "      <td>NaN</td>\n",
       "      <td>Intel</td>\n",
       "    </tr>\n",
       "    <tr>\n",
       "      <th>3</th>\n",
       "      <td>HP Chromebook MediaTek MT8183 - (4 GB/32 GB EM...</td>\n",
       "      <td>9990</td>\n",
       "      <td>HP</td>\n",
       "      <td>MediaTek MT8183</td>\n",
       "      <td>NaN</td>\n",
       "      <td>4 GB</td>\n",
       "      <td>32 GB EMMC</td>\n",
       "      <td>NaN</td>\n",
       "      <td>MediaTek</td>\n",
       "    </tr>\n",
       "    <tr>\n",
       "      <th>4</th>\n",
       "      <td>Primebook Wifi MediaTek MT8183 - (4 GB/64 GB E...</td>\n",
       "      <td>10990</td>\n",
       "      <td>Primebook</td>\n",
       "      <td>MediaTek MT8183</td>\n",
       "      <td>NaN</td>\n",
       "      <td>4 GB</td>\n",
       "      <td>64 GB EMMC</td>\n",
       "      <td>NaN</td>\n",
       "      <td>MediaTek</td>\n",
       "    </tr>\n",
       "    <tr>\n",
       "      <th>...</th>\n",
       "      <td>...</td>\n",
       "      <td>...</td>\n",
       "      <td>...</td>\n",
       "      <td>...</td>\n",
       "      <td>...</td>\n",
       "      <td>...</td>\n",
       "      <td>...</td>\n",
       "      <td>...</td>\n",
       "      <td>...</td>\n",
       "    </tr>\n",
       "    <tr>\n",
       "      <th>647</th>\n",
       "      <td>HP AMD Ryzen 5 Hexa Core 5500U - (8 GB/512 GB ...</td>\n",
       "      <td>54990</td>\n",
       "      <td>HP</td>\n",
       "      <td>Ryzen 5</td>\n",
       "      <td>NaN</td>\n",
       "      <td>8 GB</td>\n",
       "      <td>512 GB SSD</td>\n",
       "      <td>NaN</td>\n",
       "      <td>AMD</td>\n",
       "    </tr>\n",
       "    <tr>\n",
       "      <th>649</th>\n",
       "      <td>Lenovo IdeaPad Slim 3 AMD Ryzen 5 Hexa Core 55...</td>\n",
       "      <td>44990</td>\n",
       "      <td>Lenovo</td>\n",
       "      <td>Ryzen 5</td>\n",
       "      <td>NaN</td>\n",
       "      <td>8 GB</td>\n",
       "      <td>512 GB SSD</td>\n",
       "      <td>NaN</td>\n",
       "      <td>AMD</td>\n",
       "    </tr>\n",
       "    <tr>\n",
       "      <th>650</th>\n",
       "      <td>Infinix Zero Book Ultra AI PC Intel Core Ultra...</td>\n",
       "      <td>64990</td>\n",
       "      <td>Infinix</td>\n",
       "      <td>Intel Core Ultra</td>\n",
       "      <td>NaN</td>\n",
       "      <td>16 GB</td>\n",
       "      <td>512 GB SSD</td>\n",
       "      <td>NaN</td>\n",
       "      <td>Intel</td>\n",
       "    </tr>\n",
       "    <tr>\n",
       "      <th>651</th>\n",
       "      <td>Lenovo IdeaPad Slim 5 2.5K IPS Intel Core i5 1...</td>\n",
       "      <td>76990</td>\n",
       "      <td>Lenovo</td>\n",
       "      <td>Intel Core i5</td>\n",
       "      <td>13th Gen</td>\n",
       "      <td>16 GB</td>\n",
       "      <td>1 TB SSD</td>\n",
       "      <td>NaN</td>\n",
       "      <td>Intel</td>\n",
       "    </tr>\n",
       "    <tr>\n",
       "      <th>654</th>\n",
       "      <td>HP 15s Intel Core i3 11th Gen 1125G4 - (8 GB/5...</td>\n",
       "      <td>44890</td>\n",
       "      <td>HP</td>\n",
       "      <td>Intel Core i3</td>\n",
       "      <td>11th Gen</td>\n",
       "      <td>8 GB</td>\n",
       "      <td>512 GB SSD</td>\n",
       "      <td>NaN</td>\n",
       "      <td>Intel</td>\n",
       "    </tr>\n",
       "  </tbody>\n",
       "</table>\n",
       "<p>423 rows × 9 columns</p>\n",
       "</div>"
      ],
      "text/plain": [
       "                                                  name  price      Brand  \\\n",
       "0    HP 14s Backlit Intel Core i3 11th Gen 1115G4 -...  37999         HP   \n",
       "1    Acer Aspire Intel Core i5 12th Gen 12450H - (1...  44500       Acer   \n",
       "2    ASUS ASUS Vivobook S 15 Intel Core i5 13th Gen...  69900       ASUS   \n",
       "3    HP Chromebook MediaTek MT8183 - (4 GB/32 GB EM...   9990         HP   \n",
       "4    Primebook Wifi MediaTek MT8183 - (4 GB/64 GB E...  10990  Primebook   \n",
       "..                                                 ...    ...        ...   \n",
       "647  HP AMD Ryzen 5 Hexa Core 5500U - (8 GB/512 GB ...  54990         HP   \n",
       "649  Lenovo IdeaPad Slim 3 AMD Ryzen 5 Hexa Core 55...  44990     Lenovo   \n",
       "650  Infinix Zero Book Ultra AI PC Intel Core Ultra...  64990    Infinix   \n",
       "651  Lenovo IdeaPad Slim 5 2.5K IPS Intel Core i5 1...  76990     Lenovo   \n",
       "654  HP 15s Intel Core i3 11th Gen 1125G4 - (8 GB/5...  44890         HP   \n",
       "\n",
       "            Processor Generation    RAM         ROM Graphic Card  \\\n",
       "0       Intel Core i3   11th Gen   8 GB  512 GB SSD          NaN   \n",
       "1       Intel Core i5   12th Gen  12 GB  512 GB SSD          NaN   \n",
       "2       Intel Core i5   13th Gen  16 GB  512 GB SSD          NaN   \n",
       "3     MediaTek MT8183        NaN   4 GB  32 GB EMMC          NaN   \n",
       "4     MediaTek MT8183        NaN   4 GB  64 GB EMMC          NaN   \n",
       "..                ...        ...    ...         ...          ...   \n",
       "647           Ryzen 5        NaN   8 GB  512 GB SSD          NaN   \n",
       "649           Ryzen 5        NaN   8 GB  512 GB SSD          NaN   \n",
       "650  Intel Core Ultra        NaN  16 GB  512 GB SSD          NaN   \n",
       "651     Intel Core i5   13th Gen  16 GB    1 TB SSD          NaN   \n",
       "654     Intel Core i3   11th Gen   8 GB  512 GB SSD          NaN   \n",
       "\n",
       "    Processor_Brand  \n",
       "0             Intel  \n",
       "1             Intel  \n",
       "2             Intel  \n",
       "3          MediaTek  \n",
       "4          MediaTek  \n",
       "..              ...  \n",
       "647             AMD  \n",
       "649             AMD  \n",
       "650           Intel  \n",
       "651           Intel  \n",
       "654           Intel  \n",
       "\n",
       "[423 rows x 9 columns]"
      ]
     },
     "execution_count": 43,
     "metadata": {},
     "output_type": "execute_result"
    }
   ],
   "source": [
    "df[df['Graphic Card'].isnull()]"
   ]
  },
  {
   "cell_type": "code",
   "execution_count": 44,
   "id": "3b9a363b-0756-4b66-982e-c1f0d45259c0",
   "metadata": {},
   "outputs": [],
   "source": [
    "df['Graphic Card'] = df['Graphic Card'].fillna(0)"
   ]
  },
  {
   "cell_type": "code",
   "execution_count": 45,
   "id": "ac184daf-6d09-4dc0-84d2-33c30fbe4db8",
   "metadata": {},
   "outputs": [
    {
     "data": {
      "text/plain": [
       "Graphic Card\n",
       "0                                                  423\n",
       "4 GB Graphics/NVIDIA GeForce RTX                    49\n",
       "6 GB Graphics/NVIDIA GeForce RTX                    44\n",
       "8 GB Graphics/NVIDIA GeForce RTX                    26\n",
       "4 GB Graphics/NVIDIA GeForce GTX                     8\n",
       "4 GB Graphics/NVIDIA GeForce RTX RTX                 3\n",
       "6 GB Graphics/NVIDIA GeForce RTX RTX                 2\n",
       "12 GB Graphics/NVIDIA GeForce RTX                    2\n",
       "8 GB Graphics/AMD Radeon RX                          1\n",
       "4 GB Graphics/AMD Radeon RX                          1\n",
       "4 GB Graphics/NVIDIA GeForce GTX GTX                 1\n",
       "4 GB Graphics/NVIDIA GeForce RTX NVIDIA GeForce      1\n",
       "4 GB Graphics/NVIDIA GeForce GTX GTX                 1\n",
       "16 GB Graphics/NVIDIA GeForce RTX                    1\n",
       "4 GB Graphics/NVIDIA GeForce RTX NVIDIA              1\n",
       "4 GB Graphics/AMD Radeon AMD Radeon                  1\n",
       "6 GB Graphics/NVIDIA GeForce RTX RTX                 1\n",
       "6 GB Graphics/NVIDIA GeForce RTX GEFORCE RTX         1\n",
       "Name: count, dtype: int64"
      ]
     },
     "execution_count": 45,
     "metadata": {},
     "output_type": "execute_result"
    }
   ],
   "source": [
    "df['Graphic Card'].value_counts()"
   ]
  },
  {
   "cell_type": "code",
   "execution_count": 46,
   "id": "3e790c9d-19c6-4e51-ab8c-0b6925c726b3",
   "metadata": {},
   "outputs": [
    {
     "data": {
      "text/html": [
       "<div>\n",
       "<style scoped>\n",
       "    .dataframe tbody tr th:only-of-type {\n",
       "        vertical-align: middle;\n",
       "    }\n",
       "\n",
       "    .dataframe tbody tr th {\n",
       "        vertical-align: top;\n",
       "    }\n",
       "\n",
       "    .dataframe thead th {\n",
       "        text-align: right;\n",
       "    }\n",
       "</style>\n",
       "<table border=\"1\" class=\"dataframe\">\n",
       "  <thead>\n",
       "    <tr style=\"text-align: right;\">\n",
       "      <th></th>\n",
       "      <th>name</th>\n",
       "      <th>price</th>\n",
       "      <th>Brand</th>\n",
       "      <th>Processor</th>\n",
       "      <th>Generation</th>\n",
       "      <th>RAM</th>\n",
       "      <th>ROM</th>\n",
       "      <th>Graphic Card</th>\n",
       "      <th>Processor_Brand</th>\n",
       "    </tr>\n",
       "  </thead>\n",
       "  <tbody>\n",
       "    <tr>\n",
       "      <th>0</th>\n",
       "      <td>HP 14s Backlit Intel Core i3 11th Gen 1115G4 -...</td>\n",
       "      <td>37999</td>\n",
       "      <td>HP</td>\n",
       "      <td>Intel Core i3</td>\n",
       "      <td>11th Gen</td>\n",
       "      <td>8 GB</td>\n",
       "      <td>512 GB SSD</td>\n",
       "      <td>0</td>\n",
       "      <td>Intel</td>\n",
       "    </tr>\n",
       "    <tr>\n",
       "      <th>1</th>\n",
       "      <td>Acer Aspire Intel Core i5 12th Gen 12450H - (1...</td>\n",
       "      <td>44500</td>\n",
       "      <td>Acer</td>\n",
       "      <td>Intel Core i5</td>\n",
       "      <td>12th Gen</td>\n",
       "      <td>12 GB</td>\n",
       "      <td>512 GB SSD</td>\n",
       "      <td>0</td>\n",
       "      <td>Intel</td>\n",
       "    </tr>\n",
       "    <tr>\n",
       "      <th>2</th>\n",
       "      <td>ASUS ASUS Vivobook S 15 Intel Core i5 13th Gen...</td>\n",
       "      <td>69900</td>\n",
       "      <td>ASUS</td>\n",
       "      <td>Intel Core i5</td>\n",
       "      <td>13th Gen</td>\n",
       "      <td>16 GB</td>\n",
       "      <td>512 GB SSD</td>\n",
       "      <td>0</td>\n",
       "      <td>Intel</td>\n",
       "    </tr>\n",
       "    <tr>\n",
       "      <th>3</th>\n",
       "      <td>HP Chromebook MediaTek MT8183 - (4 GB/32 GB EM...</td>\n",
       "      <td>9990</td>\n",
       "      <td>HP</td>\n",
       "      <td>MediaTek MT8183</td>\n",
       "      <td>NaN</td>\n",
       "      <td>4 GB</td>\n",
       "      <td>32 GB EMMC</td>\n",
       "      <td>0</td>\n",
       "      <td>MediaTek</td>\n",
       "    </tr>\n",
       "    <tr>\n",
       "      <th>4</th>\n",
       "      <td>Primebook Wifi MediaTek MT8183 - (4 GB/64 GB E...</td>\n",
       "      <td>10990</td>\n",
       "      <td>Primebook</td>\n",
       "      <td>MediaTek MT8183</td>\n",
       "      <td>NaN</td>\n",
       "      <td>4 GB</td>\n",
       "      <td>64 GB EMMC</td>\n",
       "      <td>0</td>\n",
       "      <td>MediaTek</td>\n",
       "    </tr>\n",
       "  </tbody>\n",
       "</table>\n",
       "</div>"
      ],
      "text/plain": [
       "                                                name  price      Brand  \\\n",
       "0  HP 14s Backlit Intel Core i3 11th Gen 1115G4 -...  37999         HP   \n",
       "1  Acer Aspire Intel Core i5 12th Gen 12450H - (1...  44500       Acer   \n",
       "2  ASUS ASUS Vivobook S 15 Intel Core i5 13th Gen...  69900       ASUS   \n",
       "3  HP Chromebook MediaTek MT8183 - (4 GB/32 GB EM...   9990         HP   \n",
       "4  Primebook Wifi MediaTek MT8183 - (4 GB/64 GB E...  10990  Primebook   \n",
       "\n",
       "         Processor Generation    RAM         ROM Graphic Card Processor_Brand  \n",
       "0    Intel Core i3   11th Gen   8 GB  512 GB SSD            0           Intel  \n",
       "1    Intel Core i5   12th Gen  12 GB  512 GB SSD            0           Intel  \n",
       "2    Intel Core i5   13th Gen  16 GB  512 GB SSD            0           Intel  \n",
       "3  MediaTek MT8183        NaN   4 GB  32 GB EMMC            0        MediaTek  \n",
       "4  MediaTek MT8183        NaN   4 GB  64 GB EMMC            0        MediaTek  "
      ]
     },
     "execution_count": 46,
     "metadata": {},
     "output_type": "execute_result"
    }
   ],
   "source": [
    "df.head()"
   ]
  },
  {
   "cell_type": "code",
   "execution_count": 47,
   "id": "eb56566b-3875-4d4a-be92-cdc38f7d2cdb",
   "metadata": {},
   "outputs": [],
   "source": [
    "df2 = df.drop(['name' , 'Processor_Brand'] , axis = 1)"
   ]
  },
  {
   "cell_type": "code",
   "execution_count": null,
   "id": "3dffdd1a-f259-4c4a-9fdd-efa2574cb77a",
   "metadata": {},
   "outputs": [],
   "source": []
  },
  {
   "cell_type": "code",
   "execution_count": 48,
   "id": "55475105-820b-4074-8b3e-9685aeb4635f",
   "metadata": {},
   "outputs": [
    {
     "data": {
      "text/html": [
       "<div>\n",
       "<style scoped>\n",
       "    .dataframe tbody tr th:only-of-type {\n",
       "        vertical-align: middle;\n",
       "    }\n",
       "\n",
       "    .dataframe tbody tr th {\n",
       "        vertical-align: top;\n",
       "    }\n",
       "\n",
       "    .dataframe thead th {\n",
       "        text-align: right;\n",
       "    }\n",
       "</style>\n",
       "<table border=\"1\" class=\"dataframe\">\n",
       "  <thead>\n",
       "    <tr style=\"text-align: right;\">\n",
       "      <th></th>\n",
       "      <th>price</th>\n",
       "      <th>Brand</th>\n",
       "      <th>Processor</th>\n",
       "      <th>Generation</th>\n",
       "      <th>RAM</th>\n",
       "      <th>ROM</th>\n",
       "      <th>Graphic Card</th>\n",
       "    </tr>\n",
       "  </thead>\n",
       "  <tbody>\n",
       "    <tr>\n",
       "      <th>0</th>\n",
       "      <td>37999</td>\n",
       "      <td>HP</td>\n",
       "      <td>Intel Core i3</td>\n",
       "      <td>11th Gen</td>\n",
       "      <td>8 GB</td>\n",
       "      <td>512 GB SSD</td>\n",
       "      <td>0</td>\n",
       "    </tr>\n",
       "    <tr>\n",
       "      <th>1</th>\n",
       "      <td>44500</td>\n",
       "      <td>Acer</td>\n",
       "      <td>Intel Core i5</td>\n",
       "      <td>12th Gen</td>\n",
       "      <td>12 GB</td>\n",
       "      <td>512 GB SSD</td>\n",
       "      <td>0</td>\n",
       "    </tr>\n",
       "    <tr>\n",
       "      <th>2</th>\n",
       "      <td>69900</td>\n",
       "      <td>ASUS</td>\n",
       "      <td>Intel Core i5</td>\n",
       "      <td>13th Gen</td>\n",
       "      <td>16 GB</td>\n",
       "      <td>512 GB SSD</td>\n",
       "      <td>0</td>\n",
       "    </tr>\n",
       "    <tr>\n",
       "      <th>3</th>\n",
       "      <td>9990</td>\n",
       "      <td>HP</td>\n",
       "      <td>MediaTek MT8183</td>\n",
       "      <td>NaN</td>\n",
       "      <td>4 GB</td>\n",
       "      <td>32 GB EMMC</td>\n",
       "      <td>0</td>\n",
       "    </tr>\n",
       "    <tr>\n",
       "      <th>4</th>\n",
       "      <td>10990</td>\n",
       "      <td>Primebook</td>\n",
       "      <td>MediaTek MT8183</td>\n",
       "      <td>NaN</td>\n",
       "      <td>4 GB</td>\n",
       "      <td>64 GB EMMC</td>\n",
       "      <td>0</td>\n",
       "    </tr>\n",
       "    <tr>\n",
       "      <th>...</th>\n",
       "      <td>...</td>\n",
       "      <td>...</td>\n",
       "      <td>...</td>\n",
       "      <td>...</td>\n",
       "      <td>...</td>\n",
       "      <td>...</td>\n",
       "      <td>...</td>\n",
       "    </tr>\n",
       "    <tr>\n",
       "      <th>650</th>\n",
       "      <td>64990</td>\n",
       "      <td>Infinix</td>\n",
       "      <td>Intel Core Ultra</td>\n",
       "      <td>NaN</td>\n",
       "      <td>16 GB</td>\n",
       "      <td>512 GB SSD</td>\n",
       "      <td>0</td>\n",
       "    </tr>\n",
       "    <tr>\n",
       "      <th>651</th>\n",
       "      <td>76990</td>\n",
       "      <td>Lenovo</td>\n",
       "      <td>Intel Core i5</td>\n",
       "      <td>13th Gen</td>\n",
       "      <td>16 GB</td>\n",
       "      <td>1 TB SSD</td>\n",
       "      <td>0</td>\n",
       "    </tr>\n",
       "    <tr>\n",
       "      <th>652</th>\n",
       "      <td>73990</td>\n",
       "      <td>DELL</td>\n",
       "      <td>Intel Core i5</td>\n",
       "      <td>13th Gen</td>\n",
       "      <td>16 GB</td>\n",
       "      <td>512 GB SSD</td>\n",
       "      <td>6 GB Graphics/NVIDIA GeForce RTX GEFORCE RTX</td>\n",
       "    </tr>\n",
       "    <tr>\n",
       "      <th>653</th>\n",
       "      <td>74890</td>\n",
       "      <td>DELL</td>\n",
       "      <td>Intel Core i5</td>\n",
       "      <td>13th Gen</td>\n",
       "      <td>16 GB</td>\n",
       "      <td>512 GB SSD</td>\n",
       "      <td>6 GB Graphics/NVIDIA GeForce RTX</td>\n",
       "    </tr>\n",
       "    <tr>\n",
       "      <th>654</th>\n",
       "      <td>44890</td>\n",
       "      <td>HP</td>\n",
       "      <td>Intel Core i3</td>\n",
       "      <td>11th Gen</td>\n",
       "      <td>8 GB</td>\n",
       "      <td>512 GB SSD</td>\n",
       "      <td>0</td>\n",
       "    </tr>\n",
       "  </tbody>\n",
       "</table>\n",
       "<p>567 rows × 7 columns</p>\n",
       "</div>"
      ],
      "text/plain": [
       "     price      Brand         Processor Generation    RAM         ROM  \\\n",
       "0    37999         HP     Intel Core i3   11th Gen   8 GB  512 GB SSD   \n",
       "1    44500       Acer     Intel Core i5   12th Gen  12 GB  512 GB SSD   \n",
       "2    69900       ASUS     Intel Core i5   13th Gen  16 GB  512 GB SSD   \n",
       "3     9990         HP   MediaTek MT8183        NaN   4 GB  32 GB EMMC   \n",
       "4    10990  Primebook   MediaTek MT8183        NaN   4 GB  64 GB EMMC   \n",
       "..     ...        ...               ...        ...    ...         ...   \n",
       "650  64990    Infinix  Intel Core Ultra        NaN  16 GB  512 GB SSD   \n",
       "651  76990     Lenovo     Intel Core i5   13th Gen  16 GB    1 TB SSD   \n",
       "652  73990       DELL     Intel Core i5   13th Gen  16 GB  512 GB SSD   \n",
       "653  74890       DELL     Intel Core i5   13th Gen  16 GB  512 GB SSD   \n",
       "654  44890         HP     Intel Core i3   11th Gen   8 GB  512 GB SSD   \n",
       "\n",
       "                                      Graphic Card  \n",
       "0                                                0  \n",
       "1                                                0  \n",
       "2                                                0  \n",
       "3                                                0  \n",
       "4                                                0  \n",
       "..                                             ...  \n",
       "650                                              0  \n",
       "651                                              0  \n",
       "652  6 GB Graphics/NVIDIA GeForce RTX GEFORCE RTX   \n",
       "653              6 GB Graphics/NVIDIA GeForce RTX   \n",
       "654                                              0  \n",
       "\n",
       "[567 rows x 7 columns]"
      ]
     },
     "execution_count": 48,
     "metadata": {},
     "output_type": "execute_result"
    }
   ],
   "source": [
    "df2"
   ]
  },
  {
   "cell_type": "code",
   "execution_count": 49,
   "id": "a3dc85bd-e6b0-4788-b02d-44e57c19f5eb",
   "metadata": {},
   "outputs": [
    {
     "data": {
      "text/plain": [
       "name                 0\n",
       "price                0\n",
       "Brand                0\n",
       "Processor            0\n",
       "Generation         219\n",
       "RAM                  5\n",
       "ROM                  5\n",
       "Graphic Card         0\n",
       "Processor_Brand      0\n",
       "dtype: int64"
      ]
     },
     "execution_count": 49,
     "metadata": {},
     "output_type": "execute_result"
    }
   ],
   "source": [
    "df.isnull().sum()"
   ]
  },
  {
   "cell_type": "code",
   "execution_count": 50,
   "id": "053dcafb-c8c6-462b-8d4d-352b36dbdb2d",
   "metadata": {},
   "outputs": [],
   "source": [
    "df['RAM'] = df['RAM'].fillna(df['RAM'].mode()[0])\n",
    "df['ROM'] = df['ROM'].fillna(df['ROM'].mode()[0])"
   ]
  },
  {
   "cell_type": "code",
   "execution_count": 51,
   "id": "62669030-e668-4468-87dd-c6366b4fa60e",
   "metadata": {},
   "outputs": [
    {
     "data": {
      "text/plain": [
       "name                 0\n",
       "price                0\n",
       "Brand                0\n",
       "Processor            0\n",
       "Generation         219\n",
       "RAM                  0\n",
       "ROM                  0\n",
       "Graphic Card         0\n",
       "Processor_Brand      0\n",
       "dtype: int64"
      ]
     },
     "execution_count": 51,
     "metadata": {},
     "output_type": "execute_result"
    }
   ],
   "source": [
    "df.isnull().sum()"
   ]
  },
  {
   "cell_type": "code",
   "execution_count": 52,
   "id": "bf6e1f7f-981a-465e-97fa-a65504366670",
   "metadata": {},
   "outputs": [],
   "source": [
    "import seaborn as sns\n",
    "import matplotlib.pyplot as plt"
   ]
  },
  {
   "cell_type": "code",
   "execution_count": 53,
   "id": "5d6d1418-2819-4a75-9d46-2380630bb966",
   "metadata": {},
   "outputs": [
    {
     "data": {
      "text/plain": [
       "<Axes: >"
      ]
     },
     "execution_count": 53,
     "metadata": {},
     "output_type": "execute_result"
    },
    {
     "data": {
      "image/png": "[encoded data removed]",
      "text/plain": [
       "<Figure size 640x480 with 1 Axes>"
      ]
     },
     "metadata": {},
     "output_type": "display_data"
    }
   ],
   "source": [
    "sns.boxplot(df)"
   ]
  },
  {
   "cell_type": "code",
   "execution_count": 54,
   "id": "09b715e8-eab2-4a06-a9aa-c41832ef7327",
   "metadata": {},
   "outputs": [],
   "source": [
    "from scipy import stats\n",
    "\n",
    "z_scores = np.abs(stats.zscore(df['price']))\n",
    "\n",
    "# Define a threshold for Z-score\n",
    "threshold = 3\n",
    "\n",
    "# Filter out the outliers (those with Z-score > threshold)\n",
    "df = df[z_scores <= threshold]\n"
   ]
  },
  {
   "cell_type": "code",
   "execution_count": 55,
   "id": "23681bef-8850-42e7-a636-928d4281e09b",
   "metadata": {},
   "outputs": [
    {
     "data": {
      "text/plain": [
       "<Axes: >"
      ]
     },
     "execution_count": 55,
     "metadata": {},
     "output_type": "execute_result"
    },
    {
     "data": {
      "image/png": "[encoded data removed]",
      "text/plain": [
       "<Figure size 640x480 with 1 Axes>"
      ]
     },
     "metadata": {},
     "output_type": "display_data"
    }
   ],
   "source": [
    "sns.boxplot(df)"
   ]
  },
  {
   "cell_type": "code",
   "execution_count": 56,
   "id": "7fdea87a-5b79-420f-bd1f-2ca93ed4ea7c",
   "metadata": {},
   "outputs": [
    {
     "data": {
      "image/png": "[encoded data removed]",
      "text/plain": [
       "<Figure size 640x480 with 1 Axes>"
      ]
     },
     "metadata": {},
     "output_type": "display_data"
    }
   ],
   "source": [
    "sns.countplot(x = 'Brand' , data = df2)\n",
    "plt.xticks(rotation=90) \n",
    "plt.show()"
   ]
  },
  {
   "cell_type": "code",
   "execution_count": 57,
   "id": "58afa8ed-c27d-43db-a626-165b2638d218",
   "metadata": {},
   "outputs": [
    {
     "data": {
      "image/png": "[encoded data removed]",
      "text/plain": [
       "<Figure size 640x480 with 1 Axes>"
      ]
     },
     "metadata": {},
     "output_type": "display_data"
    }
   ],
   "source": [
    "sns.histplot(x = 'price' , data = df2)\n",
    "plt.xticks(rotation=90) \n",
    "plt.show()"
   ]
  },
  {
   "cell_type": "code",
   "execution_count": 58,
   "id": "722b5980-7855-4f23-939a-6bb687a07d29",
   "metadata": {},
   "outputs": [
    {
     "data": {
      "image/png": "[encoded data removed]",
      "text/plain": [
       "<Figure size 640x480 with 1 Axes>"
      ]
     },
     "metadata": {},
     "output_type": "display_data"
    }
   ],
   "source": [
    "sns.barplot(x = 'Brand' , y = 'price' , data = df)\n",
    "plt.xticks(rotation=90) \n",
    "plt.show()"
   ]
  },
  {
   "cell_type": "code",
   "execution_count": 59,
   "id": "8686aaf1-e0d7-4b86-97b0-86d16ea60f8b",
   "metadata": {},
   "outputs": [
    {
     "data": {
      "image/png": "[encoded data removed]",
      "text/plain": [
       "<Figure size 640x480 with 1 Axes>"
      ]
     },
     "metadata": {},
     "output_type": "display_data"
    }
   ],
   "source": [
    "sns.barplot(x = 'Graphic Card' , y = 'price' , data = df)\n",
    "plt.xticks(rotation=90) \n",
    "plt.show()"
   ]
  },
  {
   "cell_type": "code",
   "execution_count": 60,
   "id": "4d6e3b48-9763-4d97-92b6-cd3ad7379126",
   "metadata": {},
   "outputs": [
    {
     "data": {
      "image/png": "[encoded data removed]",
      "text/plain": [
       "<Figure size 640x480 with 1 Axes>"
      ]
     },
     "metadata": {},
     "output_type": "display_data"
    }
   ],
   "source": [
    "sns.barplot(x = 'ROM' , y = 'price' , data = df)\n",
    "plt.xticks(rotation=90) \n",
    "plt.show()"
   ]
  },
  {
   "cell_type": "code",
   "execution_count": 61,
   "id": "935fd5a9-fa31-4148-a7f9-0ec364b41d8e",
   "metadata": {},
   "outputs": [],
   "source": [
    "data = df.Brand.value_counts()"
   ]
  },
  {
   "cell_type": "code",
   "execution_count": 62,
   "id": "34ad9ca2-df2b-486e-b5c6-ce4f9216202e",
   "metadata": {},
   "outputs": [
    {
     "data": {
      "image/png": "[encoded data removed]",
      "text/plain": [
       "<Figure size 640x480 with 1 Axes>"
      ]
     },
     "metadata": {},
     "output_type": "display_data"
    }
   ],
   "source": [
    "plt.pie(data , labels = data.index , autopct = '%1.1f%%' )\n",
    "plt.show()"
   ]
  },
  {
   "cell_type": "code",
   "execution_count": 63,
   "id": "38331e25-faef-4b11-bd65-6767b1319dcb",
   "metadata": {},
   "outputs": [
    {
     "data": {
      "text/plain": [
       "Brand\n",
       "HP           143\n",
       "Lenovo       128\n",
       "ASUS         107\n",
       "Acer          70\n",
       "DELL          59\n",
       "MSI           21\n",
       "Infinix       12\n",
       "Ultimus        4\n",
       "SAMSUNG        4\n",
       "Apple          3\n",
       "Primebook      2\n",
       "WINGS          2\n",
       "CHUWI          1\n",
       "realme         1\n",
       "Name: count, dtype: int64"
      ]
     },
     "execution_count": 63,
     "metadata": {},
     "output_type": "execute_result"
    }
   ],
   "source": [
    "df['Brand'].value_counts()"
   ]
  },
  {
   "cell_type": "code",
   "execution_count": 64,
   "id": "86d5742e-5b4c-4ba6-8bd0-184bea30a6c7",
   "metadata": {},
   "outputs": [],
   "source": [
    "df2.to_csv('laptop_project2.csv' , index = False)"
   ]
  },
  {
   "cell_type": "code",
   "execution_count": null,
   "id": "f3a479df-7559-4884-b9b5-3efe459be38e",
   "metadata": {},
   "outputs": [],
   "source": []
  },
  {
   "cell_type": "code",
   "execution_count": null,
   "id": "835b7728-e364-464f-83c1-2e1416f1be02",
   "metadata": {},
   "outputs": [],
   "source": []
  },
  {
   "cell_type": "code",
   "execution_count": null,
   "id": "9d167c1d-c22a-4820-bf1f-bf9e168b3aac",
   "metadata": {},
   "outputs": [],
   "source": []
  },
  {
   "cell_type": "code",
   "execution_count": null,
   "id": "f914648f-4539-40d6-aedc-2d89b568406b",
   "metadata": {},
   "outputs": [],
   "source": []
  },
  {
   "cell_type": "code",
   "execution_count": null,
   "id": "05d5ca16-33b5-429f-9d5d-dcc16c5838b7",
   "metadata": {},
   "outputs": [],
   "source": []
  },
  {
   "cell_type": "code",
   "execution_count": null,
   "id": "26a3fcff-28d3-4462-a77a-9b84819e4880",
   "metadata": {},
   "outputs": [],
   "source": []
  },
  {
   "cell_type": "code",
   "execution_count": null,
   "id": "c2e9e5f6-5b3c-4550-910f-c934bf7fc4c9",
   "metadata": {},
   "outputs": [],
   "source": []
  },
  {
   "cell_type": "code",
   "execution_count": null,
   "id": "bfcb4a41-408d-4842-a8d8-61188f0e6d09",
   "metadata": {},
   "outputs": [],
   "source": []
  },
  {
   "cell_type": "code",
   "execution_count": null,
   "id": "97dff25d-baa7-49aa-b8a2-43a70106fc7b",
   "metadata": {},
   "outputs": [],
   "source": []
  },
  {
   "cell_type": "code",
   "execution_count": null,
   "id": "6490874c-e4e1-45b5-83ec-7fbcb6513a5f",
   "metadata": {},
   "outputs": [],
   "source": []
  },
  {
   "cell_type": "code",
   "execution_count": null,
   "id": "b8a986de-9ffd-4d75-91cf-95ac395641ef",
   "metadata": {},
   "outputs": [],
   "source": []
  },
  {
   "cell_type": "code",
   "execution_count": null,
   "id": "15f0804d-52de-4811-91e0-ab2f9dcccb93",
   "metadata": {},
   "outputs": [],
   "source": []
  },
  {
   "cell_type": "code",
   "execution_count": null,
   "id": "cb26742f-548b-46c9-bd35-629dc61f3d19",
   "metadata": {},
   "outputs": [],
   "source": []
  },
  {
   "cell_type": "code",
   "execution_count": null,
   "id": "aead41f0-d807-4aea-994e-dd095ac3ba6c",
   "metadata": {},
   "outputs": [],
   "source": []
  },
  {
   "cell_type": "code",
   "execution_count": null,
   "id": "322f1fe8-e853-4fb3-8b8a-e6c0600b4f2f",
   "metadata": {},
   "outputs": [],
   "source": []
  }
 ],
 "metadata": {
  "kernelspec": {
   "display_name": "tenserflow_env",
   "language": "python",
   "name": "tenserflow_env"
  },
  "language_info": {
   "codemirror_mode": {
    "name": "ipython",
    "version": 3
   },
   "file_extension": ".py",
   "mimetype": "text/x-python",
   "name": "python",
   "nbconvert_exporter": "python",
   "pygments_lexer": "ipython3",
   "version": "3.12.7"
  }
 },
 "nbformat": 4,
 "nbformat_minor": 5
}
